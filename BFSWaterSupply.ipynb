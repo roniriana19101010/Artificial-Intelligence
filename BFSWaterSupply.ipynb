{
  "nbformat": 4,
  "nbformat_minor": 0,
  "metadata": {
    "colab": {
      "name": "Untitled6.ipynb",
      "provenance": [],
      "authorship_tag": "ABX9TyP8UGBD/nulTCnWrhQg5LIo",
      "include_colab_link": true
    },
    "kernelspec": {
      "name": "python3",
      "display_name": "Python 3"
    },
    "language_info": {
      "name": "python"
    }
  },
  "cells": [
    {
      "cell_type": "markdown",
      "metadata": {
        "id": "view-in-github",
        "colab_type": "text"
      },
      "source": [
        "<a href=\"https://colab.research.google.com/github/roniriana19101010/Artificial-Intelligence/blob/master/BFSWaterSupply.ipynb\" target=\"_parent\"><img src=\"https://colab.research.google.com/assets/colab-badge.svg\" alt=\"Open In Colab\"/></a>"
      ]
    },
    {
      "cell_type": "code",
      "metadata": {
        "colab": {
          "base_uri": "https://localhost:8080/"
        },
        "id": "DAM4xAUmhjYv",
        "outputId": "41dd94c0-bae0-4a97-ae4c-69f7c8091640"
      },
      "source": [
        "# Python3 program to solve water\n",
        "# supply problem using BFS\n",
        "\n",
        "# Function to perform BFS\n",
        "def bfsUtil(v, vis, adj, src):\n",
        "\t\n",
        "\t# Mark current source visited\n",
        "\tvis[src] = True\n",
        "\n",
        "\t# Queue for BFS\n",
        "\tq = []\n",
        "\t\n",
        "\t# Push src to queue\n",
        "\tq.append(src)\n",
        "\t\n",
        "\tcount = 0\n",
        "\twhile (len(q) != 0):\n",
        "\t\tp = q[0]\n",
        "\t\t\n",
        "\t\tfor i in range(len(adj[p])):\n",
        "\t\t\t\n",
        "\t\t\t# When the adjacent city not visited and\n",
        "\t\t\t# not blocked, push city in the queue.\n",
        "\t\t\tif (vis[adj[p][i]] == False and v[adj[p][i]] == 0):\n",
        "\t\t\t\tcount += 1\n",
        "\t\t\t\tvis[adj[p][i]] = True\n",
        "\t\t\t\tq.push(adj[p][i])\n",
        "\t\t\t\n",
        "\t\t\t# when the adjacent city is not visited\n",
        "\t\t\t# but blocked so the blocked city is\n",
        "\t\t\t# not pushed in queue\n",
        "\t\t\telif(vis[adj[p][i]] == False and v[adj[p][i]] == 1):\n",
        "\t\t\t\tcount += 1\n",
        "\t\tq.remove(q[0])\n",
        "\t\n",
        "\treturn count + 1\n",
        "\n",
        "# Utility function to perform BFS\n",
        "def bfs(N, v, adj):\n",
        "\tvis = [ 0 for i in range(N + 1)]\n",
        "\tmx = 1\n",
        "\t\n",
        "\t# marking visited array false\n",
        "\tfor i in range(1, N + 1, 1):\n",
        "\t\tvis[i] = False\n",
        "\t\t\n",
        "\t# Check for each and every city\n",
        "\tfor i in range(1, N + 1, 1):\n",
        "\t\t\n",
        "\t\t# Checks that city is not blocked\n",
        "\t\t# and not visited.\n",
        "\t\tif (v[i] == 0 and vis[i] == False):\n",
        "\t\t\tres = bfsUtil(v, vis, adj, i)\n",
        "\t\t\tif (res > mx):\n",
        "\t\t\t\tmx = res\n",
        "\n",
        "\treturn mx\n",
        "\n",
        "# Driver Code\n",
        "if __name__ == '__main__':\n",
        "\tN = 4\n",
        "\t\n",
        "\t# Denotes the number of cities\n",
        "\tadj = [[] for i in range(N + 1)]\n",
        "\tv = [0 for i in range(N + 1)]\n",
        "\n",
        "\t# Adjacency list denoting road\n",
        "\t# between city u and v\n",
        "\tadj[1].append(2)\n",
        "\tadj[2].append(1)\n",
        "\tadj[2].append(3)\n",
        "\tadj[3].append(2)\n",
        "\tadj[3].append(4)\n",
        "\tadj[4].append(3)\n",
        "\n",
        "\t# array for storing whether ith\n",
        "\t# city is blocked or not\n",
        "\tv[1] = 0\n",
        "\tv[2] = 1\n",
        "\tv[3] = 1\n",
        "\tv[4] = 0\n",
        "\t\n",
        "\tprint(bfs(N, v, adj))\n",
        "\n",
        "# This code is contributed by Bhupendra_Singh\n"
      ],
      "execution_count": 1,
      "outputs": [
        {
          "output_type": "stream",
          "name": "stdout",
          "text": [
            "2\n"
          ]
        }
      ]
    }
  ]
}