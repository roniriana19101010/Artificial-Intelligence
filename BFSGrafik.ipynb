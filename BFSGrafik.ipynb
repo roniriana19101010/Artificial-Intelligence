{
  "nbformat": 4,
  "nbformat_minor": 0,
  "metadata": {
    "colab": {
      "name": "Untitled5.ipynb",
      "provenance": [],
      "authorship_tag": "ABX9TyO5xTQMoCSfglb/Z2eG+Lo/",
      "include_colab_link": true
    },
    "kernelspec": {
      "name": "python3",
      "display_name": "Python 3"
    },
    "language_info": {
      "name": "python"
    }
  },
  "cells": [
    {
      "cell_type": "markdown",
      "metadata": {
        "id": "view-in-github",
        "colab_type": "text"
      },
      "source": [
        "<a href=\"https://colab.research.google.com/github/roniriana19101010/Artificial-Intelligence/blob/master/BFSGrafik.ipynb\" target=\"_parent\"><img src=\"https://colab.research.google.com/assets/colab-badge.svg\" alt=\"Open In Colab\"/></a>"
      ]
    },
    {
      "cell_type": "code",
      "metadata": {
        "colab": {
          "base_uri": "https://localhost:8080/"
        },
        "id": "Fyg3AXORg_qJ",
        "outputId": "7235a64a-851b-4b6f-9c30-54395bab6c13"
      },
      "source": [
        "# Python3 Program to print BFS traversal\n",
        "# from a given source vertex. BFS(int s)\n",
        "# traverses vertices reachable from s.\n",
        "from collections import defaultdict\n",
        "\n",
        "# This class represents a directed graph\n",
        "# using adjacency list representation\n",
        "class Graph:\n",
        "\n",
        "\t# Constructor\n",
        "\tdef __init__(self):\n",
        "\n",
        "\t\t# default dictionary to store graph\n",
        "\t\tself.graph = defaultdict(list)\n",
        "\n",
        "\t# function to add an edge to graph\n",
        "\tdef addEdge(self,u,v):\n",
        "\t\tself.graph[u].append(v)\n",
        "\n",
        "\t# Function to print a BFS of graph\n",
        "\tdef BFS(self, s):\n",
        "\n",
        "\t\t# Mark all the vertices as not visited\n",
        "\t\tvisited = [False] * (max(self.graph) + 1)\n",
        "\n",
        "\t\t# Create a queue for BFS\n",
        "\t\tqueue = []\n",
        "\n",
        "\t\t# Mark the source node as\n",
        "\t\t# visited and enqueue it\n",
        "\t\tqueue.append(s)\n",
        "\t\tvisited[s] = True\n",
        "\n",
        "\t\twhile queue:\n",
        "\n",
        "\t\t\t# Dequeue a vertex from\n",
        "\t\t\t# queue and print it\n",
        "\t\t\ts = queue.pop(0)\n",
        "\t\t\tprint (s, end = \" \")\n",
        "\n",
        "\t\t\t# Get all adjacent vertices of the\n",
        "\t\t\t# dequeued vertex s. If a adjacent\n",
        "\t\t\t# has not been visited, then mark it\n",
        "\t\t\t# visited and enqueue it\n",
        "\t\t\tfor i in self.graph[s]:\n",
        "\t\t\t\tif visited[i] == False:\n",
        "\t\t\t\t\tqueue.append(i)\n",
        "\t\t\t\t\tvisited[i] = True\n",
        "\n",
        "# Driver code\n",
        "\n",
        "# Create a graph given in\n",
        "# the above diagram\n",
        "g = Graph()\n",
        "g.addEdge(0, 1)\n",
        "g.addEdge(0, 2)\n",
        "g.addEdge(1, 2)\n",
        "g.addEdge(2, 0)\n",
        "g.addEdge(2, 3)\n",
        "g.addEdge(3, 3)\n",
        "\n",
        "print (\"Following is Breadth First Traversal\"\n",
        "\t\t\t\t\" (starting from vertex 2)\")\n",
        "g.BFS(2)\n",
        "\n",
        "# This code is contributed by Neelam Yadav\n"
      ],
      "execution_count": 7,
      "outputs": [
        {
          "output_type": "stream",
          "name": "stdout",
          "text": [
            "Following is Breadth First Traversal (starting from vertex 2)\n",
            "2 0 3 1 "
          ]
        }
      ]
    }
  ]
}